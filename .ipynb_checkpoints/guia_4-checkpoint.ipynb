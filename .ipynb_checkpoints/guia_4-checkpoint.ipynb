{
 "cells": [
  {
   "cell_type": "markdown",
   "metadata": {},
   "source": [
    "## Importando los datos"
   ]
  },
  {
   "cell_type": "code",
   "execution_count": 53,
   "metadata": {
    "collapsed": true
   },
   "outputs": [],
   "source": [
    "''' Definimos la funcion para leer el archivo geneX '''\n",
    "import re\n",
    "def ldata(archive):\n",
    "    f=open(archive)\n",
    "    data=[]\n",
    "    for line in f:\n",
    "        line = re.sub('[\"\\n]', '', line)\n",
    "        col=line.split(',')\n",
    "        data.append(col)\n",
    "    return data"
   ]
  },
  {
   "cell_type": "markdown",
   "metadata": {},
   "source": [
    "Al cargar los datos, la variable geneX tendra en su prmer fila (geneX[0]) los datos de los diferenctes momentos a los cuales se tomo la muestra. Luego en la filas subsiguientes (geneX[n]), el primer elemento corresponde al nombre del gen y los demas a los valores de expresion de dicho gen a cada tiempo."
   ]
  },
  {
   "cell_type": "code",
   "execution_count": 89,
   "metadata": {},
   "outputs": [
    {
     "data": {
      "text/plain": [
       "['AT1G01120',\n",
       " '6.71990716589494',\n",
       " '4.59135741517451',\n",
       " '3.40701378041858',\n",
       " '5.91999209688856',\n",
       " '5.58896169640829',\n",
       " '5.94697471723513',\n",
       " '5.52492906279461',\n",
       " '4.14434931557895',\n",
       " '3.85372442148385',\n",
       " '6.5603050343132',\n",
       " '4.98680367516588',\n",
       " '5.70994059991009']"
      ]
     },
     "execution_count": 89,
     "metadata": {},
     "output_type": "execute_result"
    }
   ],
   "source": [
    "geneX=ldata('geneX.csv')\n",
    "geneX[2]"
   ]
  },
  {
   "cell_type": "markdown",
   "metadata": {},
   "source": [
    "Asignamos los nombres a una lista y los valores a una matriz de numpy, donde las filas corresponden a cada gen y las columnas a cada tiempo."
   ]
  },
  {
   "cell_type": "code",
   "execution_count": 85,
   "metadata": {},
   "outputs": [],
   "source": [
    "import numpy as np\n",
    "valores_genes=np.zeros((500, 12))\n",
    "nombre_genes=[]\n",
    "for j in range(1,501):\n",
    "    nombre_genes.append(geneX[j][0])\n",
    "    for i in range(1,13):\n",
    "        valores_genes[j-1,i-1]=float(geneX[j][i])"
   ]
  },
  {
   "cell_type": "markdown",
   "metadata": {},
   "source": [
    "## Defininendo funciones"
   ]
  },
  {
   "cell_type": "markdown",
   "metadata": {},
   "source": [
    "Definimos funciones para calcular infomap y para calcular la modularidad. Para poder calcular comunidades con el metodo infomap, deberan instalar el paqute de igraph para python. Para hacerlo deben abrir una terminal y escribir 'pip3 install --user python-igraph'."
   ]
  },
  {
   "cell_type": "code",
   "execution_count": 154,
   "metadata": {},
   "outputs": [],
   "source": [
    "import igraph as igraph\n",
    "import networkx as nx\n",
    "import time\n",
    "\n",
    "def calculate_infomap(np_adj_list, method=\"infomap\"):\n",
    "    g = igraph.Graph.Weighted_Adjacency(np_adj_list.tolist(),mode=igraph.ADJ_UPPER)\n",
    "   \n",
    "    t0=time.time()\n",
    "    if method==\"infomap\":\n",
    "        labels = g.community_infomap(edge_weights=\"weight\").membership\n",
    "#    labels = g.community_label_propagation(weights=\"weight\").membership\n",
    "    if method==\"fastgreedy\":\n",
    "        labels = g.community_fastgreedy(edge_weights=\"weight\").membership\n",
    "   \n",
    "    print(\"Duración: {}s\".format(time.time()-t0))\n",
    "           \n",
    "    return labels\n",
    "\n",
    "from __future__ import division\n",
    "\n",
    "from functools import wraps\n",
    "from itertools import product\n",
    "\n",
    "import networkx as nx\n",
    "from networkx import NetworkXError\n",
    "from networkx.utils import not_implemented_for\n",
    "from networkx.algorithms.community.community_utils import is_partition\n",
    "\n",
    "__all__ = ['coverage', 'modularity', 'performance']\n",
    "\n",
    "\n",
    "class NotAPartition(NetworkXError):\n",
    "    \"\"\"Raised if a given collection is not a partition.\n",
    "\n",
    "    \"\"\"\n",
    "\n",
    "    def __init__(self, G, collection):\n",
    "        msg = '{} is not a valid partition of the graph {}'\n",
    "        msg = msg.format(G, collection)\n",
    "        super(NotAPartition, self).__init__(msg)\n",
    "\n",
    "\n",
    "def modularity(G, communities, weight='weight'):\n",
    "    r\"\"\"Returns the modularity of the given partition of the graph.\n",
    "\n",
    "    Modularity is defined in [1]_ as\n",
    "\n",
    "    .. math::\n",
    "\n",
    "        Q = \\frac{1}{2m} \\sum_{ij} \\left( A_{ij} - \\frac{k_ik_j}{2m}\\right)\n",
    "            \\delta(c_i,c_j)\n",
    "\n",
    "    where $m$ is the number of edges, $A$ is the adjacency matrix of\n",
    "    `G`, $k_i$ is the degree of $i$ and $\\delta(c_i, c_j)$\n",
    "    is 1 if $i$ and $j$ are in the same community and 0 otherwise.\n",
    "\n",
    "    Parameters\n",
    "    ----------\n",
    "    G : NetworkX Graph\n",
    "\n",
    "    communities : list\n",
    "        List of sets of nodes of `G` representing a partition of the\n",
    "        nodes.\n",
    "\n",
    "    Returns\n",
    "    -------\n",
    "    Q : float\n",
    "        The modularity of the paritition.\n",
    "\n",
    "    Raises\n",
    "    ------\n",
    "    NotAPartition\n",
    "        If `communities` is not a partition of the nodes of `G`.\n",
    "\n",
    "    Examples\n",
    "    --------\n",
    "    >>> G = nx.barbell_graph(3, 0)\n",
    "    >>> nx.algorithms.community.modularity(G, [{0, 1, 2}, {3, 4, 5}])\n",
    "    0.35714285714285704\n",
    "\n",
    "    References\n",
    "    ----------\n",
    "    .. [1] M. E. J. Newman *Networks: An Introduction*, page 224.\n",
    "       Oxford University Press, 2011.\n",
    "\n",
    "    \"\"\"\n",
    "    if not is_partition(G, communities):\n",
    "        raise NotAPartition(G, communities)\n",
    "\n",
    "    multigraph = G.is_multigraph()\n",
    "    directed = G.is_directed()\n",
    "    m = G.size(weight=weight)\n",
    "    if directed:\n",
    "        out_degree = dict(G.out_degree(weight=weight))\n",
    "        in_degree = dict(G.in_degree(weight=weight))\n",
    "        norm = 1 / m\n",
    "    else:\n",
    "        out_degree = dict(G.degree(weight=weight))\n",
    "        in_degree = out_degree\n",
    "        norm = 1 / (2 * m)\n",
    "\n",
    "    def val(u, v):\n",
    "        try:\n",
    "            if multigraph:\n",
    "                w = sum(d.get(weight, 1) for k, d in G[u][v].items())\n",
    "            else:\n",
    "                w = G[u][v].get(weight, 1)\n",
    "        except KeyError:\n",
    "            w = 0\n",
    "        # Double count self-loops if the graph is undirected.\n",
    "        if u == v and not directed:\n",
    "            w *= 2\n",
    "        return w - in_degree[u] * out_degree[v] * norm\n",
    "\n",
    "    Q = sum(val(u, v) for c in communities for u, v in product(c, repeat=2))\n",
    "    return Q * norm\n",
    "\n"
   ]
  },
  {
   "cell_type": "markdown",
   "metadata": {},
   "source": [
    "Probamos la funcion modularity"
   ]
  },
  {
   "cell_type": "code",
   "execution_count": 128,
   "metadata": {},
   "outputs": [
    {
     "data": {
      "image/png": "[encoded data removed]",
      "text/plain": [
       "<matplotlib.figure.Figure at 0x7fe2714aba58>"
      ]
     },
     "metadata": {},
     "output_type": "display_data"
    }
   ],
   "source": [
    "import matplotlib.pyplot as plt\n",
    "G = nx.balanced_tree(h=2,r=2)\n",
    "nx.draw(G,with_labels=True)\n",
    "plt.show()"
   ]
  },
  {
   "cell_type": "code",
   "execution_count": 129,
   "metadata": {},
   "outputs": [
    {
     "data": {
      "text/plain": [
       "0.3194444444444444"
      ]
     },
     "execution_count": 129,
     "metadata": {},
     "output_type": "execute_result"
    }
   ],
   "source": [
    "modularity(G,[[0,1,3,4],[5,2,6]])"
   ]
  },
  {
   "cell_type": "code",
   "execution_count": 130,
   "metadata": {},
   "outputs": [
    {
     "data": {
      "text/plain": [
       "-0.4999999999999996"
      ]
     },
     "execution_count": 130,
     "metadata": {},
     "output_type": "execute_result"
    }
   ],
   "source": [
    "modularity(G,[[1,2],[0,4,5,6,3]])"
   ]
  },
  {
   "cell_type": "code",
   "execution_count": 163,
   "metadata": {},
   "outputs": [
    {
     "name": "stdout",
     "output_type": "stream",
     "text": [
      "Duración: 0.0007169246673583984s\n"
     ]
    },
    {
     "data": {
      "text/plain": [
       "[0, 0, 0, 0]"
      ]
     },
     "execution_count": 163,
     "metadata": {},
     "output_type": "execute_result"
    }
   ],
   "source": [
    "edges=np.asarray([[0,1,0,0],[1,1,1,1],[0,1,0,1],[1,1,0,0]]) # Matriz de adyacencia\n",
    "calculate_infomap(edges)"
   ]
  },
  {
   "cell_type": "markdown",
   "metadata": {},
   "source": [
    "Algunos paquetes que les pueden serivr para hacer el dendograma: https://docs.scipy.org/doc/scipy-0.14.0/reference/generated/scipy.cluster.hierarchy.dendrogram.html"
   ]
  },
  {
   "cell_type": "code",
   "execution_count": null,
   "metadata": {
    "collapsed": true
   },
   "outputs": [],
   "source": [
    "# For dendogram\n",
    "from scipy.cluster.hierarchy import dendrogram\n",
    "from scipy.cluster.hierarchy import linkage\n",
    "from scipy.cluster.hierarchy import cophenet\n",
    "from scipy.spatial.distance import pdist"
   ]
  },
  {
   "cell_type": "code",
   "execution_count": null,
   "metadata": {
    "collapsed": true
   },
   "outputs": [],
   "source": []
  }
 ],
 "metadata": {
  "kernelspec": {
   "display_name": "Python 3",
   "language": "python",
   "name": "python3"
  },
  "language_info": {
   "codemirror_mode": {
    "name": "ipython",
    "version": 3
   },
   "file_extension": ".py",
   "mimetype": "text/x-python",
   "name": "python",
   "nbconvert_exporter": "python",
   "pygments_lexer": "ipython3",
   "version": "3.6.3"
  }
 },
 "nbformat": 4,
 "nbformat_minor": 2
}
